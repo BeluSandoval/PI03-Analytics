{
 "cells": [
  {
   "attachments": {},
   "cell_type": "markdown",
   "metadata": {},
   "source": [
    "### Importamos librerías"
   ]
  },
  {
   "cell_type": "code",
   "execution_count": null,
   "metadata": {},
   "outputs": [],
   "source": [
    "import pandas as pd\n",
    "import numpy as np\n",
    "import matplotlib.pyplot as plt"
   ]
  },
  {
   "attachments": {},
   "cell_type": "markdown",
   "metadata": {},
   "source": [
    "### Importamos nuestros datos a un df"
   ]
  },
  {
   "cell_type": "code",
   "execution_count": null,
   "metadata": {},
   "outputs": [],
   "source": [
    "df = pd.read_csv(r'AccidentesAviones.csv')"
   ]
  },
  {
   "attachments": {},
   "cell_type": "markdown",
   "metadata": {},
   "source": [
    "### Exploración Inicial"
   ]
  },
  {
   "cell_type": "code",
   "execution_count": null,
   "metadata": {},
   "outputs": [],
   "source": [
    "df.head()"
   ]
  },
  {
   "cell_type": "code",
   "execution_count": null,
   "metadata": {},
   "outputs": [],
   "source": [
    "#Vemos la dimensión de nuestro dataset\n",
    "df.shape"
   ]
  },
  {
   "cell_type": "code",
   "execution_count": null,
   "metadata": {},
   "outputs": [],
   "source": [
    "#Corroboramos existencia de valores nulos\n",
    "df.isnull().sum()"
   ]
  },
  {
   "attachments": {},
   "cell_type": "markdown",
   "metadata": {},
   "source": [
    "A simple vista parece que no existen valores nulos, pero estos estan expresados con el valor '?' así que luego veremos en concreto esos datos."
   ]
  },
  {
   "cell_type": "code",
   "execution_count": null,
   "metadata": {},
   "outputs": [],
   "source": [
    "#Vemos los tipos de datos correspondientes a nuestros campos\n",
    "df.info()"
   ]
  },
  {
   "attachments": {},
   "cell_type": "markdown",
   "metadata": {},
   "source": [
    "### Renombramos columnas"
   ]
  },
  {
   "cell_type": "code",
   "execution_count": null,
   "metadata": {},
   "outputs": [],
   "source": [
    "df = df.rename(columns={\n",
    "    'fecha': 'Fecha',\n",
    "    'HORA declarada': 'Hora_accidente', \n",
    "    'flight_no': 'Nro_vuelo',\n",
    "    'route': 'Route',\n",
    "    'registration': 'Registro',\n",
    "    'all_aboard': 'Total_a_bordo',\n",
    "    'OperadOR': 'Operador', \n",
    "    'ac_type': 'Tipo_aeronave',\n",
    "    'PASAJEROS A BORDO': 'Pasajeros_a_bordo', \n",
    "    'cantidad de fallecidos': 'Total_fallecidos',\n",
    "    'passenger_fatalities': 'Pasajeros_fallecidos',\n",
    "    'crew_fatalities': 'Tripulacion_fallecida',\n",
    "    'crew_aboard': 'Tripulacion_a_bordo',\n",
    "    'ground': 'Muertos_tierra',\n",
    "    'summary': 'Resumen_accidente',\n",
    "    })"
   ]
  },
  {
   "attachments": {},
   "cell_type": "markdown",
   "metadata": {},
   "source": [
    "### Dataset consiste en 5008 observaciones (crashes) y 18 atributos, estos son:\n",
    "\n",
    "*Fecha*: fecha en que se produjo el accidente\n",
    "\n",
    "*Hora_accidente*: hora que se produjo el accidente\n",
    "\n",
    "*Ruta*: lugar donde se produjo el accidente\n",
    "\n",
    "*Operador*: aerolínea de la aeronave\n",
    "\n",
    "*Nro_vuelo*: número de vuelo\n",
    "\n",
    "*Route*: ruta tomada en avión\n",
    "\n",
    "*Tipo_aeronave*: tipo de aeronave\n",
    "\n",
    "*Registro* -\n",
    "\n",
    "*cn_ln* - \n",
    "\n",
    "*Total_a_bordo*: total personas a bordo\n",
    "\n",
    "*Pasajeros_a_bordo*: número de pasajeros a bordo\n",
    "\n",
    "*Triplulacion_a_bordo*: número de tripulación a bordo\n",
    "\n",
    "*Total_fallecidos*: número total de personas fallecidas\n",
    "\n",
    "*Pasajeros_fallecidos*: número de pasajeros fallecidos\n",
    "\n",
    "*Tripulacion_fallecida*: número de tripulación fallecida\n",
    "\n",
    "*Ground*: número de personas muertas en tierra\n",
    "\n",
    "*Resumen_accidente*: breve resumen del caso\n",
    "\n"
   ]
  },
  {
   "attachments": {},
   "cell_type": "markdown",
   "metadata": {},
   "source": [
    "### Tratamiento de datos"
   ]
  },
  {
   "cell_type": "code",
   "execution_count": null,
   "metadata": {},
   "outputs": [],
   "source": [
    "# Eliminar la primer columna ya que es irrelevante para nuestro análisis (enumera filas)\n",
    "df = df.drop('Unnamed', axis=1)"
   ]
  },
  {
   "cell_type": "code",
   "execution_count": null,
   "metadata": {},
   "outputs": [],
   "source": [
    "df.head(1)"
   ]
  },
  {
   "cell_type": "code",
   "execution_count": null,
   "metadata": {},
   "outputs": [],
   "source": [
    "#Cambiamos los datos '?' por valores acorde a cada campo, ya que deduje que son nulos\n",
    "df['Fecha'] = df['Fecha'].replace('?', np.NaN)\n",
    "df['Hora_accidente'] = df['Hora_accidente'].replace('?', np.NaN)\n",
    "df['Ruta'] = df['Ruta'].replace('?', 'Sin dato')\n",
    "df['Operador'] = df['Operador'].replace('?', 'Sin dato')\n",
    "df['Nro_vuelo'] = df['Nro_vuelo'].replace('?', 'Sin dato')\n",
    "df['Route'] = df['Route'].replace('?', 'Sin dato')\n",
    "df['Tipo_aeronave'] = df['Tipo_aeronave'].replace('?', 'Sin dato')\n",
    "df['Registro'] = df['Registro'].replace('?', 'Sin dato')\n",
    "df['cn_ln'] = df['cn_ln'].replace('?', 'Sin dato')\n",
    "df['Total_a_bordo'] = df['Total_a_bordo'].replace('?', 0)\n",
    "df['Pasajeros_a_bordo'] = df['Pasajeros_a_bordo'].replace('?', 0)\n",
    "df['Tripulacion_a_bordo'] = df['Tripulacion_a_bordo'].replace('?', 0)\n",
    "df['Total_fallecidos'] = df['Total_fallecidos'].replace('?', 0)\n",
    "df['Pasajeros_fallecidos'] = df['Pasajeros_fallecidos'].replace('?', 0)\n",
    "df['Tripulacion_fallecida'] = df['Tripulacion_fallecida'].replace('?', 0)\n",
    "df['Muertos_tierra'] = df['Muertos_tierra'].replace('?', 0)\n",
    "df['Resumen_accidente'] = df['Resumen_accidente'].replace('?', 'Sin dato')"
   ]
  },
  {
   "cell_type": "code",
   "execution_count": null,
   "metadata": {},
   "outputs": [],
   "source": [
    "df.isnull().sum()"
   ]
  },
  {
   "attachments": {},
   "cell_type": "markdown",
   "metadata": {},
   "source": [
    "### Cambios en columnas"
   ]
  },
  {
   "cell_type": "code",
   "execution_count": null,
   "metadata": {},
   "outputs": [],
   "source": [
    "#Cambiamos el tipo de dato de 'fecha'\n",
    "df['Fecha'] = pd.to_datetime(df['Fecha'])"
   ]
  },
  {
   "cell_type": "code",
   "execution_count": null,
   "metadata": {},
   "outputs": [],
   "source": [
    "#Convertimos las columnas a tipo numérico\n",
    "a_entero = ['Total_a_bordo', 'Pasajeros_a_bordo', 'Tripulacion_a_bordo', 'Total_fallecidos', 'Pasajeros_fallecidos', 'Tripulacion_fallecida', 'Muertos_tierra']\n",
    "df[a_entero] = df[a_entero].astype(int)"
   ]
  },
  {
   "cell_type": "code",
   "execution_count": null,
   "metadata": {},
   "outputs": [],
   "source": [
    "#Cambiamos el formato de la columna 'hora declarada'\n",
    "df['Hora_accidente'] = df['Hora_accidente'].str.slice(0, 2) + ':' + df['Hora_accidente'].str.slice(2)\n",
    "df['Hora_accidente'] = df['Hora_accidente'].str.replace(\"c \", \"\")"
   ]
  },
  {
   "attachments": {},
   "cell_type": "markdown",
   "metadata": {},
   "source": [
    "Corroboramos los cambios de formato, tipo y si quedan valores nulos aún"
   ]
  },
  {
   "cell_type": "code",
   "execution_count": null,
   "metadata": {},
   "outputs": [],
   "source": [
    "df.info()"
   ]
  },
  {
   "attachments": {},
   "cell_type": "markdown",
   "metadata": {},
   "source": [
    "Creación de nuevas columnas para su posterior visualización"
   ]
  },
  {
   "cell_type": "code",
   "execution_count": null,
   "metadata": {},
   "outputs": [],
   "source": [
    "# Creamos nuevas columna con la tasa de mortalidad, tasa de supervivencia y número de sobrevivientes\n",
    "df['Tasa_mortalidad'] = (df['Total_fallecidos'] / df['Total_a_bordo']) * 100\n",
    "df['Tasa_supervivencia'] = ((df['Total_a_bordo'] - df['Total_fallecidos']) / df['Total_a_bordo']) * 100\n",
    "df['Sobrevivientes'] = df['Total_a_bordo'] - df['Total_fallecidos']\n",
    "#df['Anio'] = pd.DatetimeIndex(df['Fecha']).year\n",
    "\n"
   ]
  },
  {
   "cell_type": "code",
   "execution_count": null,
   "metadata": {},
   "outputs": [],
   "source": [
    "df.head(1)"
   ]
  },
  {
   "attachments": {},
   "cell_type": "markdown",
   "metadata": {},
   "source": [
    "Cantidad de accidentes por año"
   ]
  },
  {
   "cell_type": "code",
   "execution_count": null,
   "metadata": {},
   "outputs": [],
   "source": [
    "# Calcular la cantidad de accidentes por año\n",
    "accidentes_por_anio = df.groupby(df['Fecha'].dt.year).size()\n",
    "\n",
    "# Seleccionar solo algunos años para mostrar en el gráfico\n",
    "seleccion_anios = accidentes_por_anio.index[::5]  # Cambiar 5 por el intervalo deseado\n",
    "\n",
    "# Crear el gráfico de líneas\n",
    "plt.figure(figsize=(10, 6))\n",
    "plt.plot(accidentes_por_anio.index, accidentes_por_anio.values, marker='o')\n",
    "plt.xlabel('Año')\n",
    "plt.ylabel('Cantidad de accidentes')\n",
    "plt.title('Cantidad de accidentes por año')\n",
    "\n",
    "# Mostrar solo los años seleccionados en el eje x\n",
    "plt.xticks(seleccion_anios)\n",
    "\n",
    "plt.tight_layout()\n",
    "plt.show()\n"
   ]
  },
  {
   "attachments": {},
   "cell_type": "markdown",
   "metadata": {},
   "source": [
    "¿Hubo más de un accidente en el mismo día?"
   ]
  },
  {
   "cell_type": "code",
   "execution_count": null,
   "metadata": {},
   "outputs": [],
   "source": [
    "df['Fecha'].value_counts()[:6]"
   ]
  },
  {
   "cell_type": "code",
   "execution_count": null,
   "metadata": {},
   "outputs": [],
   "source": [
    "#20 fechas con mas accidentes aereos\n",
    "accidentes_20 = df['Fecha'].value_counts().head(30)\n",
    "\n",
    "# Crear el gráfico de barras\n",
    "plt.figure(figsize=(10, 6)) \n",
    "accidentes_20.plot(kind='bar')\n",
    "\n",
    "# Personalizar el gráfico\n",
    "plt.title('20 días con mayor número de accidentes')\n",
    "plt.xlabel('Fechas')\n",
    "plt.ylabel('Frecuencia')\n",
    "\n",
    "# Mostrar el gráfico\n",
    "plt.show()\n"
   ]
  },
  {
   "attachments": {},
   "cell_type": "markdown",
   "metadata": {},
   "source": [
    "Las dos fechas con más accidentes en la historia son: 31-08-1988 y 11-09-2001\n",
    "El 11 de septiembre de 2001 se puede relacionar con los ataques terroristas en Estados Unidos, donde varios aviones comerciales fueron secuestrados y utilizados como armas.\n",
    "\n",
    "No es raro tener varios (hasta 4) accidentes por día. A partir del 11 de septiembre, hubo 5 fechas más en las que hubo 4 accidentes por día. Parecen una coincidencia aparte del 28-02-1973, cuando en Polonia hubo 2 accidentes por mal tiempo."
   ]
  },
  {
   "attachments": {},
   "cell_type": "markdown",
   "metadata": {},
   "source": [
    "**Visializaremos cómo ha cambiado la tasa de supervivencia media a lo largo de los años.**"
   ]
  },
  {
   "cell_type": "code",
   "execution_count": null,
   "metadata": {},
   "outputs": [],
   "source": [
    "tasa_supervivencia_media_por_anio = df.groupby(df['Fecha'].dt.year)['Tasa_supervivencia'].mean()\n",
    "\n",
    "plt.figure(figsize=(10, 6))\n",
    "plt.plot(tasa_supervivencia_media_por_anio.index, tasa_supervivencia_media_por_anio.values, marker='o')\n",
    "plt.xlabel('Año')\n",
    "plt.ylabel('Tasa de supervivencia media')\n",
    "plt.title('Tasa de supervivencia media por año')\n",
    "plt.xticks([x for x in range(1908,2009,10)], rotation='vertical')\n",
    "plt.axhline(y=data_mean, color='r', linestyle='-')\n",
    "\n",
    "plt.tight_layout()\n",
    "plt.show()"
   ]
  },
  {
   "attachments": {},
   "cell_type": "markdown",
   "metadata": {},
   "source": [
    " **tasa de mortalidad**"
   ]
  },
  {
   "cell_type": "code",
   "execution_count": null,
   "metadata": {},
   "outputs": [],
   "source": [
    "# Calcular la tasa de mortalidad promedio por año\n",
    "tasa_mortalidad_promedio_por_anio = df.groupby(df['Fecha'].dt.year)['Tasa_mortalidad'].mean()\n",
    "\n",
    "# Calcular la media de la tasa de mortalidad\n",
    "media_tasa_mortalidad = df['Tasa_mortalidad'].mean()\n",
    "\n",
    "# Crear el gráfico de línea\n",
    "plt.figure(figsize=(10, 6))\n",
    "plt.plot(tasa_mortalidad_promedio_por_anio.index, tasa_mortalidad_promedio_por_anio.values, marker='o')\n",
    "plt.axhline(media_tasa_mortalidad, color='r', linestyle='-', label='Media')\n",
    "plt.xlabel('Año')\n",
    "plt.ylabel('Tasa de mortalidad promedio')\n",
    "plt.title('Tasa de mortalidad promedio por año')\n",
    "plt.legend()\n",
    "\n",
    "plt.tight_layout()\n",
    "plt.show()\n"
   ]
  },
  {
   "attachments": {},
   "cell_type": "markdown",
   "metadata": {},
   "source": [
    "### Explorando las operadoras"
   ]
  },
  {
   "attachments": {},
   "cell_type": "markdown",
   "metadata": {},
   "source": [
    "\n",
    "¿Qué operador tiene más aviones estrellados?"
   ]
  },
  {
   "cell_type": "code",
   "execution_count": null,
   "metadata": {},
   "outputs": [],
   "source": [
    "df['Operador'].value_counts()"
   ]
  },
  {
   "attachments": {},
   "cell_type": "markdown",
   "metadata": {},
   "source": [
    "¿Qué operador tiene más fatalidades?"
   ]
  },
  {
   "cell_type": "code",
   "execution_count": null,
   "metadata": {},
   "outputs": [],
   "source": [
    "df.groupby(['Operador'])['Total_fallecidos'].sum().sort_values( ascending=False).head(20).plot.bar()"
   ]
  },
  {
   "attachments": {},
   "cell_type": "markdown",
   "metadata": {},
   "source": [
    "*La aerolinea con el mayor número de accidentes es Aeroflot, seguido de Military U.S Air force*"
   ]
  },
  {
   "attachments": {},
   "cell_type": "markdown",
   "metadata": {},
   "source": [
    "Analizando en particular a la aerolinea *Aeroflot*"
   ]
  },
  {
   "cell_type": "code",
   "execution_count": null,
   "metadata": {},
   "outputs": [],
   "source": [
    "# Filtrar los accidentes de la aerolínea \"Aeroflot\"\n",
    "filtro_aeroflot = df['Operador'] == \"Aeroflot\"\n",
    "\n",
    "# Agrupar los accidentes de \"Aeroflot\" por año y contar la cantidad de accidentes por año\n",
    "accidentes_aeroflot_por_anio = df.loc[filtro_aeroflot].groupby(df['Fecha'].dt.year).size()\n",
    "\n",
    "# Crear el gráfico de barras\n",
    "plt.figure(figsize=[12, 6])\n",
    "accidentes_aeroflot_por_anio.plot(kind='bar')\n",
    "plt.xlabel('Año')\n",
    "plt.ylabel('Cantidad de accidentes')\n",
    "plt.title('Accidentes de Aeroflot por año')\n",
    "\n",
    "plt.tight_layout()\n",
    "plt.show()\n"
   ]
  },
  {
   "attachments": {},
   "cell_type": "markdown",
   "metadata": {},
   "source": [
    "¿Cuál es el peor accidente aéreo (mayor fatalidad) para cada operador?"
   ]
  },
  {
   "cell_type": "code",
   "execution_count": null,
   "metadata": {},
   "outputs": [],
   "source": [
    "df.groupby(['Operador'])['Total_fallecidos'].max().sort_values( ascending=False)"
   ]
  },
  {
   "attachments": {},
   "cell_type": "markdown",
   "metadata": {},
   "source": [
    "Los dos accidentes más grandes por número de muertes incluyen factores humanos. Puede ver los detalles a continuación."
   ]
  },
  {
   "cell_type": "code",
   "execution_count": null,
   "metadata": {},
   "outputs": [],
   "source": [
    "id_of_max_Fatalities = df['Total_fallecidos'].sort_values().dropna().index"
   ]
  },
  {
   "cell_type": "code",
   "execution_count": null,
   "metadata": {},
   "outputs": [],
   "source": [
    "df.loc[id_of_max_Fatalities[-1]].Resumen_accidente"
   ]
  },
  {
   "cell_type": "code",
   "execution_count": null,
   "metadata": {},
   "outputs": [],
   "source": [
    "df.loc[id_of_max_Fatalities[-2]].Resumen_accidente"
   ]
  },
  {
   "attachments": {},
   "cell_type": "markdown",
   "metadata": {},
   "source": [
    "¿En qué accidente sobrevivió la mayoría de las personas?"
   ]
  },
  {
   "cell_type": "code",
   "execution_count": null,
   "metadata": {},
   "outputs": [],
   "source": [
    "max_survive_index = df['Sobrevivientes'].idxmax()\n",
    "df.loc[max_survive_index]\n"
   ]
  },
  {
   "attachments": {},
   "cell_type": "markdown",
   "metadata": {},
   "source": [
    "¿Cuál fue la causa de este accidente?"
   ]
  },
  {
   "cell_type": "code",
   "execution_count": null,
   "metadata": {},
   "outputs": [],
   "source": [
    "df['Resumen_accidente'].loc[max_survive_index]"
   ]
  },
  {
   "cell_type": "code",
   "execution_count": null,
   "metadata": {},
   "outputs": [],
   "source": [
    "df.to_csv('df_final.csv', index=False)"
   ]
  }
 ],
 "metadata": {
  "kernelspec": {
   "display_name": "Python 3",
   "language": "python",
   "name": "python3"
  },
  "language_info": {
   "codemirror_mode": {
    "name": "ipython",
    "version": 3
   },
   "file_extension": ".py",
   "mimetype": "text/x-python",
   "name": "python",
   "nbconvert_exporter": "python",
   "pygments_lexer": "ipython3",
   "version": "3.11.0"
  },
  "orig_nbformat": 4
 },
 "nbformat": 4,
 "nbformat_minor": 2
}
